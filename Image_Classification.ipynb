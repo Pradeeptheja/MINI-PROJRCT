{
  "nbformat": 4,
  "nbformat_minor": 0,
  "metadata": {
    "colab": {
      "name": "Image Classification.ipynb",
      "provenance": [],
      "collapsed_sections": [],
      "authorship_tag": "ABX9TyMY0lQA8WH1o0WVUFn00JEU",
      "include_colab_link": true
    },
    "kernelspec": {
      "name": "python3",
      "display_name": "Python 3"
    },
    "language_info": {
      "name": "python"
    }
  },
  "cells": [
    {
      "cell_type": "markdown",
      "metadata": {
        "id": "view-in-github",
        "colab_type": "text"
      },
      "source": [
        "<a href=\"https://colab.research.google.com/github/Pradeeptheja/MINI-PROJRCT/blob/main/Image_Classification.ipynb\" target=\"_parent\"><img src=\"https://colab.research.google.com/assets/colab-badge.svg\" alt=\"Open In Colab\"/></a>"
      ]
    },
    {
      "cell_type": "code",
      "metadata": {
        "colab": {
          "base_uri": "https://localhost:8080/"
        },
        "id": "hlblkFaDJhn4",
        "outputId": "096ca86b-e7f0-488e-fc92-a8d82fb2b991"
      },
      "source": [
        "!pip install ipython-autotime\n",
        "%load_ext autotime"
      ],
      "execution_count": null,
      "outputs": [
        {
          "output_type": "stream",
          "text": [
            "Collecting ipython-autotime\n",
            "  Downloading https://files.pythonhosted.org/packages/b4/c9/b413a24f759641bc27ef98c144b590023c8038dfb8a3f09e713e9dff12c1/ipython_autotime-0.3.1-py2.py3-none-any.whl\n",
            "Requirement already satisfied: ipython in /usr/local/lib/python3.7/dist-packages (from ipython-autotime) (5.5.0)\n",
            "Requirement already satisfied: setuptools>=18.5 in /usr/local/lib/python3.7/dist-packages (from ipython->ipython-autotime) (54.1.2)\n",
            "Requirement already satisfied: prompt-toolkit<2.0.0,>=1.0.4 in /usr/local/lib/python3.7/dist-packages (from ipython->ipython-autotime) (1.0.18)\n",
            "Requirement already satisfied: simplegeneric>0.8 in /usr/local/lib/python3.7/dist-packages (from ipython->ipython-autotime) (0.8.1)\n",
            "Requirement already satisfied: pygments in /usr/local/lib/python3.7/dist-packages (from ipython->ipython-autotime) (2.6.1)\n",
            "Requirement already satisfied: traitlets>=4.2 in /usr/local/lib/python3.7/dist-packages (from ipython->ipython-autotime) (5.0.5)\n",
            "Requirement already satisfied: pexpect; sys_platform != \"win32\" in /usr/local/lib/python3.7/dist-packages (from ipython->ipython-autotime) (4.8.0)\n",
            "Requirement already satisfied: pickleshare in /usr/local/lib/python3.7/dist-packages (from ipython->ipython-autotime) (0.7.5)\n",
            "Requirement already satisfied: decorator in /usr/local/lib/python3.7/dist-packages (from ipython->ipython-autotime) (4.4.2)\n",
            "Requirement already satisfied: six>=1.9.0 in /usr/local/lib/python3.7/dist-packages (from prompt-toolkit<2.0.0,>=1.0.4->ipython->ipython-autotime) (1.15.0)\n",
            "Requirement already satisfied: wcwidth in /usr/local/lib/python3.7/dist-packages (from prompt-toolkit<2.0.0,>=1.0.4->ipython->ipython-autotime) (0.2.5)\n",
            "Requirement already satisfied: ipython-genutils in /usr/local/lib/python3.7/dist-packages (from traitlets>=4.2->ipython->ipython-autotime) (0.2.0)\n",
            "Requirement already satisfied: ptyprocess>=0.5 in /usr/local/lib/python3.7/dist-packages (from pexpect; sys_platform != \"win32\"->ipython->ipython-autotime) (0.7.0)\n",
            "Installing collected packages: ipython-autotime\n",
            "Successfully installed ipython-autotime-0.3.1\n",
            "time: 188 µs (started: 2021-03-28 14:05:08 +00:00)\n"
          ],
          "name": "stdout"
        }
      ]
    },
    {
      "cell_type": "code",
      "metadata": {
        "id": "C3DwJ__w9Zrc"
      },
      "source": [
        "# Data : Images\n",
        "# 1. Download manually the images from Google\n",
        "# 2. Download dataset from Kaggle.com\n",
        "# 3. Build a Image web crawler\n",
        "# 4. Use python libraries to scrape the images(using)\n",
        "# 5. Build a Image web-scrape"
      ],
      "execution_count": null,
      "outputs": []
    },
    {
      "cell_type": "code",
      "metadata": {
        "colab": {
          "base_uri": "https://localhost:8080/"
        },
        "id": "_-prMw0pBH2y",
        "outputId": "131d5666-c736-4009-cdbd-15070c376bd9"
      },
      "source": [
        "!pip install bing-image-downloader"
      ],
      "execution_count": null,
      "outputs": [
        {
          "output_type": "stream",
          "text": [
            "Collecting bing-image-downloader\n",
            "  Downloading https://files.pythonhosted.org/packages/0d/bf/537a61030b84ae4cd5022d5c7b014fd9bc3ce7c02358919153a6658a61d3/bing_image_downloader-1.0.4-py3-none-any.whl\n",
            "Installing collected packages: bing-image-downloader\n",
            "Successfully installed bing-image-downloader-1.0.4\n"
          ],
          "name": "stdout"
        }
      ]
    },
    {
      "cell_type": "code",
      "metadata": {
        "colab": {
          "base_uri": "https://localhost:8080/"
        },
        "id": "jX2KkOgwBcY_",
        "outputId": "46e251fc-5373-4867-ff5b-7eab58ac381b"
      },
      "source": [
        "!mkdir images"
      ],
      "execution_count": null,
      "outputs": [
        {
          "output_type": "stream",
          "text": [
            "mkdir: cannot create directory ‘images’: File exists\n"
          ],
          "name": "stdout"
        }
      ]
    },
    {
      "cell_type": "code",
      "metadata": {
        "colab": {
          "base_uri": "https://localhost:8080/"
        },
        "id": "QzOe3R3bB0Bv",
        "outputId": "5f8ec6e4-b80e-4aa8-87a1-4daf43a7751d"
      },
      "source": [
        "from bing_image_downloader import downloader\n",
        "downloader.download(\"rose\",limit=30,output_dir='images',\n",
        "                    adult_filter_off=True)"
      ],
      "execution_count": null,
      "outputs": [
        {
          "output_type": "stream",
          "text": [
            "\n",
            "\n",
            "[!!]Indexing page: 1\n",
            "\n",
            "[%] Indexed 10 Images on Page 1.\n",
            "\n",
            "===============================================\n",
            "\n",
            "[%] Downloading Image #1 from http://3.bp.blogspot.com/-PTMcU3iDimQ/UFAkJx8jQOI/AAAAAAAADEk/67ZUjOWUIrU/s1600/rose+sybmolism.jpg\n",
            "[%] File Downloaded !\n",
            "\n",
            "[%] Downloading Image #2 from http://scrapcoloring.fr/images/rose_t.800.jpg\n",
            "[%] File Downloaded !\n",
            "\n",
            "[%] Downloading Image #3 from http://thegraphicsfairy.com/wp-content/uploads/2012/10/rose-boutonniere-GraphicsFairy1.jpg\n",
            "[%] File Downloaded !\n",
            "\n",
            "[%] Downloading Image #4 from http://freebigpictures.com/wp-content/uploads/2009/09/rose-blooming.jpg\n",
            "[%] File Downloaded !\n",
            "\n",
            "[%] Downloading Image #5 from http://www.thetreecenter.com/wp-content/uploads/2014/06/knockout-rose-tree-547x547.jpg\n",
            "[%] File Downloaded !\n",
            "\n",
            "[%] Downloading Image #6 from http://www.publicdomainpictures.net/pictures/50000/nahled/red-rose-bush.jpg\n",
            "[%] File Downloaded !\n",
            "\n",
            "[%] Downloading Image #7 from http://4.bp.blogspot.com/-m8s6rD90HX8/Tyl2cx7LoOI/AAAAAAAAAow/lDIiQ4cb2hk/s1600/Amber-Rose-2012.jpg\n",
            "[%] File Downloaded !\n",
            "\n",
            "[%] Downloading Image #8 from http://s1.bwallpapers.com/wallpapers/2014/01/20/lavender-rose_110747838.jpg\n",
            "[%] File Downloaded !\n",
            "\n",
            "[%] Downloading Image #9 from http://2.bp.blogspot.com/--5oJBKgArMo/TicN13duRgI/AAAAAAAABVs/tYD5sWxjeOE/s1600/Arial+Rose+hot.jpeg\n",
            "[%] File Downloaded !\n",
            "\n",
            "[%] Downloading Image #10 from http://pics.wikifeet.com/Amelia-Rose-Earhart-Feet-1082783.jpg\n",
            "[%] File Downloaded !\n",
            "\n",
            "\n",
            "\n",
            "[!!]Indexing page: 2\n",
            "\n",
            "[%] Indexed 10 Images on Page 2.\n",
            "\n",
            "===============================================\n",
            "\n",
            "[%] Downloading Image #11 from http://3.bp.blogspot.com/-PTMcU3iDimQ/UFAkJx8jQOI/AAAAAAAADEk/67ZUjOWUIrU/s1600/rose+sybmolism.jpg\n",
            "[%] File Downloaded !\n",
            "\n",
            "[%] Downloading Image #12 from http://scrapcoloring.fr/images/rose_t.800.jpg\n",
            "[%] File Downloaded !\n",
            "\n",
            "[%] Downloading Image #13 from http://thegraphicsfairy.com/wp-content/uploads/2012/10/rose-boutonniere-GraphicsFairy1.jpg\n",
            "[%] File Downloaded !\n",
            "\n",
            "[%] Downloading Image #14 from http://freebigpictures.com/wp-content/uploads/2009/09/rose-blooming.jpg\n",
            "[%] File Downloaded !\n",
            "\n",
            "[%] Downloading Image #15 from http://www.thetreecenter.com/wp-content/uploads/2014/06/knockout-rose-tree-547x547.jpg\n",
            "[%] File Downloaded !\n",
            "\n",
            "[%] Downloading Image #16 from http://www.publicdomainpictures.net/pictures/50000/nahled/red-rose-bush.jpg\n",
            "[%] File Downloaded !\n",
            "\n",
            "[%] Downloading Image #17 from http://4.bp.blogspot.com/-m8s6rD90HX8/Tyl2cx7LoOI/AAAAAAAAAow/lDIiQ4cb2hk/s1600/Amber-Rose-2012.jpg\n",
            "[%] File Downloaded !\n",
            "\n",
            "[%] Downloading Image #18 from http://s1.bwallpapers.com/wallpapers/2014/01/20/lavender-rose_110747838.jpg\n",
            "[%] File Downloaded !\n",
            "\n",
            "[%] Downloading Image #19 from http://2.bp.blogspot.com/--5oJBKgArMo/TicN13duRgI/AAAAAAAABVs/tYD5sWxjeOE/s1600/Arial+Rose+hot.jpeg\n",
            "[%] File Downloaded !\n",
            "\n",
            "[%] Downloading Image #20 from http://pics.wikifeet.com/Amelia-Rose-Earhart-Feet-1082783.jpg\n",
            "[%] File Downloaded !\n",
            "\n",
            "\n",
            "\n",
            "[!!]Indexing page: 3\n",
            "\n",
            "[%] Indexed 9 Images on Page 3.\n",
            "\n",
            "===============================================\n",
            "\n",
            "[%] Downloading Image #21 from http://scrapcoloring.fr/images/rose_t.800.jpg\n",
            "[%] File Downloaded !\n",
            "\n",
            "[%] Downloading Image #22 from http://thegraphicsfairy.com/wp-content/uploads/2012/10/rose-boutonniere-GraphicsFairy1.jpg\n",
            "[%] File Downloaded !\n",
            "\n",
            "[%] Downloading Image #23 from http://freebigpictures.com/wp-content/uploads/2009/09/rose-blooming.jpg\n",
            "[%] File Downloaded !\n",
            "\n",
            "[%] Downloading Image #24 from http://www.thetreecenter.com/wp-content/uploads/2014/06/knockout-rose-tree-547x547.jpg\n",
            "[%] File Downloaded !\n",
            "\n",
            "[%] Downloading Image #25 from http://www.publicdomainpictures.net/pictures/50000/nahled/red-rose-bush.jpg\n",
            "[%] File Downloaded !\n",
            "\n",
            "[%] Downloading Image #26 from http://4.bp.blogspot.com/-m8s6rD90HX8/Tyl2cx7LoOI/AAAAAAAAAow/lDIiQ4cb2hk/s1600/Amber-Rose-2012.jpg\n",
            "[%] File Downloaded !\n",
            "\n",
            "[%] Downloading Image #27 from http://s1.bwallpapers.com/wallpapers/2014/01/20/lavender-rose_110747838.jpg\n",
            "[%] File Downloaded !\n",
            "\n",
            "[%] Downloading Image #28 from http://2.bp.blogspot.com/--5oJBKgArMo/TicN13duRgI/AAAAAAAABVs/tYD5sWxjeOE/s1600/Arial+Rose+hot.jpeg\n",
            "[%] File Downloaded !\n",
            "\n",
            "[%] Downloading Image #29 from http://pics.wikifeet.com/Amelia-Rose-Earhart-Feet-1082783.jpg\n",
            "[%] File Downloaded !\n",
            "\n",
            "\n",
            "\n",
            "[!!]Indexing page: 4\n",
            "\n",
            "[%] Indexed 8 Images on Page 4.\n",
            "\n",
            "===============================================\n",
            "\n",
            "[%] Downloading Image #30 from http://thegraphicsfairy.com/wp-content/uploads/2012/10/rose-boutonniere-GraphicsFairy1.jpg\n",
            "[%] File Downloaded !\n",
            "\n",
            "\n",
            "\n",
            "[%] Done. Downloaded 30 images.\n",
            "\n",
            "===============================================\n",
            "\n"
          ],
          "name": "stdout"
        }
      ]
    },
    {
      "cell_type": "code",
      "metadata": {
        "id": "BZNYNz16Fkmp"
      },
      "source": [
        ""
      ],
      "execution_count": null,
      "outputs": []
    },
    {
      "cell_type": "code",
      "metadata": {
        "colab": {
          "base_uri": "https://localhost:8080/"
        },
        "id": "Lgkp6ADlFmQ6",
        "outputId": "67121b75-2875-47cc-828e-d971b58bb2b3"
      },
      "source": [
        "from bing_image_downloader import downloader\n",
        "downloader.download(\"sunflower\",limit=30,output_dir='images',\n",
        "                    adult_filter_off=True)"
      ],
      "execution_count": null,
      "outputs": [
        {
          "output_type": "stream",
          "text": [
            "\n",
            "\n",
            "[!!]Indexing page: 1\n",
            "\n",
            "[%] Indexed 12 Images on Page 1.\n",
            "\n",
            "===============================================\n",
            "\n",
            "[%] Downloading Image #1 from https://i.pinimg.com/736x/ff/ef/27/ffef27db1b1effe6e5a454386e9c99ff.jpg\n",
            "[%] File Downloaded !\n",
            "\n",
            "[%] Downloading Image #2 from https://www.hdwallpapers.in/download/gorgeous_sunflowers-1920x1200.jpg\n",
            "[%] File Downloaded !\n",
            "\n",
            "[%] Downloading Image #3 from http://www.flowershopnetwork.com/blog/wp-content/uploads/2013/11/Sympathy-tribute-from-Edgewater-Home-and-Garden-in-Portage-WI.jpg\n",
            "[Error]Invalid image, not saving http://www.flowershopnetwork.com/blog/wp-content/uploads/2013/11/Sympathy-tribute-from-Edgewater-Home-and-Garden-in-Portage-WI.jpg\n",
            "\n",
            "[!] Issue getting: http://www.flowershopnetwork.com/blog/wp-content/uploads/2013/11/Sympathy-tribute-from-Edgewater-Home-and-Garden-in-Portage-WI.jpg\n",
            "[!] Error:: No active exception to reraise\n",
            "[%] Downloading Image #3 from https://www.minnesotawildflowers.info/udata/r9ndp23q/yellow/prairie-sunflower-100_5813.jpg\n",
            "[%] File Downloaded !\n",
            "\n",
            "[%] Downloading Image #4 from https://www.desktopbackground.org/download/480x800/2014/10/25/845441_bible-verses-bible-quotes-backgrounds-free-christian-wallpapers_1600x1000_h.jpg\n",
            "[%] File Downloaded !\n",
            "\n",
            "[%] Downloading Image #5 from https://www.hdwallpapers.in/download/pure_red_sunflowers-1920x1200.jpg\n",
            "[%] File Downloaded !\n",
            "\n",
            "[%] Downloading Image #6 from http://www.lickthespoon.co.uk/wp-content/gallery/wedding_cakes/jed-and-anna-closeup-sunflowers-1000.jpg\n",
            "[%] File Downloaded !\n",
            "\n",
            "[%] Downloading Image #7 from https://www.gardengnomesetc.com/images/products/Rain-chain-fountain-sunflower-sun-pineapple-7.jpg\n",
            "[%] File Downloaded !\n",
            "\n",
            "[%] Downloading Image #8 from https://emmalovesweddings.com/wp-content/uploads/2019/08/burgundy-and-yellow-sunflower-wedding-cake.jpg\n",
            "[%] File Downloaded !\n",
            "\n",
            "[%] Downloading Image #9 from https://i0.wp.com/www.ecstasycoffee.com/wp-content/uploads/2016/09/Sunflower-tattoo-design-4.jpg?resize=600%2C818\n",
            "[%] File Downloaded !\n",
            "\n",
            "[%] Downloading Image #10 from http://www.imagensparawhats.club/wp-content/uploads/2019/08/imagens-de-girassol-6.jpg\n",
            "[%] File Downloaded !\n",
            "\n",
            "[%] Downloading Image #11 from https://www.digsdigs.com/photos/2011/10/700-free-last-minute-halloween-pumpkin-carving-templates-and-ideas-11.jpg\n",
            "[%] File Downloaded !\n",
            "\n",
            "\n",
            "\n",
            "[!!]Indexing page: 2\n",
            "\n",
            "[%] Indexed 12 Images on Page 2.\n",
            "\n",
            "===============================================\n",
            "\n",
            "[%] Downloading Image #12 from https://i.pinimg.com/736x/ff/ef/27/ffef27db1b1effe6e5a454386e9c99ff.jpg\n",
            "[%] File Downloaded !\n",
            "\n",
            "[%] Downloading Image #13 from https://www.hdwallpapers.in/download/gorgeous_sunflowers-1920x1200.jpg\n",
            "[%] File Downloaded !\n",
            "\n",
            "[%] Downloading Image #14 from http://www.flowershopnetwork.com/blog/wp-content/uploads/2013/11/Sympathy-tribute-from-Edgewater-Home-and-Garden-in-Portage-WI.jpg\n",
            "[Error]Invalid image, not saving http://www.flowershopnetwork.com/blog/wp-content/uploads/2013/11/Sympathy-tribute-from-Edgewater-Home-and-Garden-in-Portage-WI.jpg\n",
            "\n",
            "[!] Issue getting: http://www.flowershopnetwork.com/blog/wp-content/uploads/2013/11/Sympathy-tribute-from-Edgewater-Home-and-Garden-in-Portage-WI.jpg\n",
            "[!] Error:: No active exception to reraise\n",
            "[%] Downloading Image #14 from https://www.minnesotawildflowers.info/udata/r9ndp23q/yellow/prairie-sunflower-100_5813.jpg\n",
            "[%] File Downloaded !\n",
            "\n",
            "[%] Downloading Image #15 from https://www.desktopbackground.org/download/480x800/2014/10/25/845441_bible-verses-bible-quotes-backgrounds-free-christian-wallpapers_1600x1000_h.jpg\n",
            "[%] File Downloaded !\n",
            "\n",
            "[%] Downloading Image #16 from https://www.hdwallpapers.in/download/pure_red_sunflowers-1920x1200.jpg\n",
            "[%] File Downloaded !\n",
            "\n",
            "[%] Downloading Image #17 from http://www.lickthespoon.co.uk/wp-content/gallery/wedding_cakes/jed-and-anna-closeup-sunflowers-1000.jpg\n",
            "[%] File Downloaded !\n",
            "\n",
            "[%] Downloading Image #18 from https://www.gardengnomesetc.com/images/products/Rain-chain-fountain-sunflower-sun-pineapple-7.jpg\n",
            "[%] File Downloaded !\n",
            "\n",
            "[%] Downloading Image #19 from https://emmalovesweddings.com/wp-content/uploads/2019/08/burgundy-and-yellow-sunflower-wedding-cake.jpg\n",
            "[%] File Downloaded !\n",
            "\n",
            "[%] Downloading Image #20 from https://i0.wp.com/www.ecstasycoffee.com/wp-content/uploads/2016/09/Sunflower-tattoo-design-4.jpg?resize=600%2C818\n",
            "[%] File Downloaded !\n",
            "\n",
            "[%] Downloading Image #21 from http://www.imagensparawhats.club/wp-content/uploads/2019/08/imagens-de-girassol-6.jpg\n",
            "[%] File Downloaded !\n",
            "\n",
            "[%] Downloading Image #22 from https://www.digsdigs.com/photos/2011/10/700-free-last-minute-halloween-pumpkin-carving-templates-and-ideas-11.jpg\n",
            "[%] File Downloaded !\n",
            "\n",
            "\n",
            "\n",
            "[!!]Indexing page: 3\n",
            "\n",
            "[%] Indexed 11 Images on Page 3.\n",
            "\n",
            "===============================================\n",
            "\n",
            "[%] Downloading Image #23 from https://www.minnesotawildflowers.info/udata/r9ndp23q/yellow/prairie-sunflower-100_5813.jpg\n",
            "[%] File Downloaded !\n",
            "\n",
            "[%] Downloading Image #24 from https://i0.wp.com/www.ecstasycoffee.com/wp-content/uploads/2016/09/Sunflower-tattoo-design-4.jpg?resize=600%2C818\n",
            "[%] File Downloaded !\n",
            "\n",
            "[%] Downloading Image #25 from https://www.hdwallpapers.in/download/pure_red_sunflowers-1920x1200.jpg\n",
            "[%] File Downloaded !\n",
            "\n",
            "[%] Downloading Image #26 from https://www.hdwallpapers.in/download/gorgeous_sunflowers-1920x1200.jpg\n",
            "[%] File Downloaded !\n",
            "\n",
            "[%] Downloading Image #27 from https://www.desktopbackground.org/download/480x800/2014/10/25/845441_bible-verses-bible-quotes-backgrounds-free-christian-wallpapers_1600x1000_h.jpg\n",
            "[%] File Downloaded !\n",
            "\n",
            "[%] Downloading Image #28 from https://emmalovesweddings.com/wp-content/uploads/2019/08/burgundy-and-yellow-sunflower-wedding-cake.jpg\n",
            "[%] File Downloaded !\n",
            "\n",
            "[%] Downloading Image #29 from https://www.digsdigs.com/photos/2011/10/700-free-last-minute-halloween-pumpkin-carving-templates-and-ideas-11.jpg\n",
            "[%] File Downloaded !\n",
            "\n",
            "[%] Downloading Image #30 from http://www.imagensparawhats.club/wp-content/uploads/2019/08/imagens-de-girassol-6.jpg\n",
            "[%] File Downloaded !\n",
            "\n",
            "\n",
            "\n",
            "[%] Done. Downloaded 30 images.\n",
            "\n",
            "===============================================\n",
            "\n"
          ],
          "name": "stdout"
        }
      ]
    },
    {
      "cell_type": "code",
      "metadata": {
        "id": "_E5MwErnrhl9"
      },
      "source": [
        "from google.colab import drive\n",
        "drive.mount('/content/drive')"
      ],
      "execution_count": null,
      "outputs": []
    },
    {
      "cell_type": "code",
      "metadata": {
        "colab": {
          "base_uri": "https://localhost:8080/"
        },
        "id": "mJcJdJPOGEj3",
        "outputId": "34a2fb54-3e7d-4b7e-f45a-522399355dca"
      },
      "source": [
        "from bing_image_downloader import downloader\n",
        "downloader.download(\"football\",limit=30,output_dir='images',\n",
        "                    adult_filter_off=True)"
      ],
      "execution_count": null,
      "outputs": [
        {
          "output_type": "stream",
          "text": [
            "\n",
            "\n",
            "[!!]Indexing page: 1\n",
            "\n",
            "[%] Indexed 12 Images on Page 1.\n",
            "\n",
            "===============================================\n",
            "\n",
            "[%] Downloading Image #1 from http://3.bp.blogspot.com/-s16AiAeY6CU/TywgEgB2RbI/AAAAAAAAABQ/hDhSwz0jSDE/s1600/223119_2223446941440_1105730171_32601739_1758346_n.jpg\n",
            "[%] File Downloaded !\n",
            "\n",
            "[%] Downloading Image #2 from http://images.clipartpanda.com/black-football-helmet-front-110_491e122c7b86c.png\n",
            "[%] File Downloaded !\n",
            "\n",
            "[%] Downloading Image #3 from http://www.clker.com/cliparts/e/e/0/c/13389219171212255095soccer%20pitch.jpg\n",
            "[%] File Downloaded !\n",
            "\n",
            "[%] Downloading Image #4 from http://www.clker.com/cliparts/g/a/f/x/H/e/football-shape-hi.png\n",
            "[%] File Downloaded !\n",
            "\n",
            "[%] Downloading Image #5 from http://www.conceptdraw.com/solution-park/resource/images/solutions/soccer/Sport-Soccer-Football-Field-Dimensions.png\n",
            "[%] File Downloaded !\n",
            "\n",
            "[%] Downloading Image #6 from http://www.skylinepictures.com/Pittsburgh_Steelers_p23b_large.jpg\n",
            "[%] File Downloaded !\n",
            "\n",
            "[%] Downloading Image #7 from http://afl-football.50webs.com/images/620814.jpg\n",
            "[%] File Downloaded !\n",
            "\n",
            "[%] Downloading Image #8 from http://www.skylinepictures.com/Iowa_UI40_large.jpg\n",
            "[%] File Downloaded !\n",
            "\n",
            "[%] Downloading Image #9 from http://sculpturealley.net/images/fantasyfootballtrophy12.jpg\n",
            "[%] File Downloaded !\n",
            "\n",
            "[%] Downloading Image #10 from http://www.instantactionsports.com/sportsbook/ncaa-football/images/New-Mexico-State-Stadium.jpg\n",
            "[!] Issue getting: http://www.instantactionsports.com/sportsbook/ncaa-football/images/New-Mexico-State-Stadium.jpg\n",
            "[!] Error:: HTTP Error 522: Origin Connection Time-out\n",
            "[%] Downloading Image #10 from http://www.thewhirlingwind.com/wp-content/uploads/2012/10/nuclear_football-e1349807957764.jpg\n",
            "[%] File Downloaded !\n",
            "\n",
            "[%] Downloading Image #11 from http://1.bp.blogspot.com/_DQbfY3XK6MQ/TFB-L1w7FKI/AAAAAAAAAZE/rUyzfz0YBcI/s1600/mangoal2AP0808_468x725.jpg\n",
            "[%] File Downloaded !\n",
            "\n",
            "\n",
            "\n",
            "[!!]Indexing page: 2\n",
            "\n",
            "[%] Indexed 12 Images on Page 2.\n",
            "\n",
            "===============================================\n",
            "\n",
            "[%] Downloading Image #12 from http://3.bp.blogspot.com/-s16AiAeY6CU/TywgEgB2RbI/AAAAAAAAABQ/hDhSwz0jSDE/s1600/223119_2223446941440_1105730171_32601739_1758346_n.jpg\n",
            "[%] File Downloaded !\n",
            "\n",
            "[%] Downloading Image #13 from http://images.clipartpanda.com/black-football-helmet-front-110_491e122c7b86c.png\n",
            "[%] File Downloaded !\n",
            "\n",
            "[%] Downloading Image #14 from http://www.clker.com/cliparts/e/e/0/c/13389219171212255095soccer%20pitch.jpg\n",
            "[%] File Downloaded !\n",
            "\n",
            "[%] Downloading Image #15 from http://www.clker.com/cliparts/g/a/f/x/H/e/football-shape-hi.png\n",
            "[%] File Downloaded !\n",
            "\n",
            "[%] Downloading Image #16 from http://www.conceptdraw.com/solution-park/resource/images/solutions/soccer/Sport-Soccer-Football-Field-Dimensions.png\n",
            "[%] File Downloaded !\n",
            "\n",
            "[%] Downloading Image #17 from http://www.skylinepictures.com/Pittsburgh_Steelers_p23b_large.jpg\n",
            "[%] File Downloaded !\n",
            "\n",
            "[%] Downloading Image #18 from http://afl-football.50webs.com/images/620814.jpg\n",
            "[%] File Downloaded !\n",
            "\n",
            "[%] Downloading Image #19 from http://www.skylinepictures.com/Iowa_UI40_large.jpg\n",
            "[%] File Downloaded !\n",
            "\n",
            "[%] Downloading Image #20 from http://sculpturealley.net/images/fantasyfootballtrophy12.jpg\n",
            "[%] File Downloaded !\n",
            "\n",
            "[%] Downloading Image #21 from http://www.instantactionsports.com/sportsbook/ncaa-football/images/New-Mexico-State-Stadium.jpg\n",
            "[!] Issue getting: http://www.instantactionsports.com/sportsbook/ncaa-football/images/New-Mexico-State-Stadium.jpg\n",
            "[!] Error:: HTTP Error 522: Origin Connection Time-out\n",
            "[%] Downloading Image #21 from http://www.thewhirlingwind.com/wp-content/uploads/2012/10/nuclear_football-e1349807957764.jpg\n",
            "[%] File Downloaded !\n",
            "\n",
            "[%] Downloading Image #22 from http://1.bp.blogspot.com/_DQbfY3XK6MQ/TFB-L1w7FKI/AAAAAAAAAZE/rUyzfz0YBcI/s1600/mangoal2AP0808_468x725.jpg\n",
            "[%] File Downloaded !\n",
            "\n",
            "\n",
            "\n",
            "[!!]Indexing page: 3\n",
            "\n",
            "[%] Indexed 11 Images on Page 3.\n",
            "\n",
            "===============================================\n",
            "\n",
            "[%] Downloading Image #23 from http://www.clker.com/cliparts/g/a/f/x/H/e/football-shape-hi.png\n",
            "[%] File Downloaded !\n",
            "\n",
            "[%] Downloading Image #24 from http://www.skylinepictures.com/Pittsburgh_Steelers_p23b_large.jpg\n",
            "[%] File Downloaded !\n",
            "\n",
            "[%] Downloading Image #25 from http://www.clker.com/cliparts/e/e/0/c/13389219171212255095soccer%20pitch.jpg\n",
            "[%] File Downloaded !\n",
            "\n",
            "[%] Downloading Image #26 from http://afl-football.50webs.com/images/620814.jpg\n",
            "[%] File Downloaded !\n",
            "\n",
            "[%] Downloading Image #27 from http://1.bp.blogspot.com/_DQbfY3XK6MQ/TFB-L1w7FKI/AAAAAAAAAZE/rUyzfz0YBcI/s1600/mangoal2AP0808_468x725.jpg\n",
            "[%] File Downloaded !\n",
            "\n",
            "[%] Downloading Image #28 from http://sculpturealley.net/images/fantasyfootballtrophy12.jpg\n",
            "[%] File Downloaded !\n",
            "\n",
            "[%] Downloading Image #29 from http://www.instantactionsports.com/sportsbook/ncaa-football/images/New-Mexico-State-Stadium.jpg\n",
            "[!] Issue getting: http://www.instantactionsports.com/sportsbook/ncaa-football/images/New-Mexico-State-Stadium.jpg\n",
            "[!] Error:: HTTP Error 522: Origin Connection Time-out\n",
            "[%] Downloading Image #29 from http://www.thewhirlingwind.com/wp-content/uploads/2012/10/nuclear_football-e1349807957764.jpg\n",
            "[%] File Downloaded !\n",
            "\n",
            "[%] Downloading Image #30 from http://images.clipartpanda.com/black-football-helmet-front-110_491e122c7b86c.png\n",
            "[%] File Downloaded !\n",
            "\n",
            "\n",
            "\n",
            "[%] Done. Downloaded 30 images.\n",
            "\n",
            "===============================================\n",
            "\n"
          ],
          "name": "stdout"
        }
      ]
    },
    {
      "cell_type": "code",
      "metadata": {
        "colab": {
          "base_uri": "https://localhost:8080/"
        },
        "id": "YIr3tsMnLl0p",
        "outputId": "68fdf3ec-2309-4058-b534-2ff007358441"
      },
      "source": [
        "import numpy as np\n",
        "\n",
        "a=np.array([[1,2,3,4,5],\n",
        "           [4,5,6,7,8]])\n",
        "a.ndim"
      ],
      "execution_count": null,
      "outputs": [
        {
          "output_type": "execute_result",
          "data": {
            "text/plain": [
              "2"
            ]
          },
          "metadata": {
            "tags": []
          },
          "execution_count": 12
        },
        {
          "output_type": "stream",
          "text": [
            "time: 5.17 ms (started: 2021-03-28 14:15:29 +00:00)\n"
          ],
          "name": "stdout"
        }
      ]
    },
    {
      "cell_type": "code",
      "metadata": {
        "colab": {
          "base_uri": "https://localhost:8080/"
        },
        "id": "2P-EVcuoMIyu",
        "outputId": "3ce06c57-32e4-442e-fff8-fc443820c6ae"
      },
      "source": [
        "# How do i convert Matrix to vector? - flatten()\n",
        "a.flatten()"
      ],
      "execution_count": null,
      "outputs": [
        {
          "output_type": "execute_result",
          "data": {
            "text/plain": [
              "array([1, 2, 3, 4, 5, 4, 5, 6, 7, 8])"
            ]
          },
          "metadata": {
            "tags": []
          },
          "execution_count": 13
        },
        {
          "output_type": "stream",
          "text": [
            "time: 9.44 ms (started: 2021-03-28 14:17:11 +00:00)\n"
          ],
          "name": "stdout"
        }
      ]
    },
    {
      "cell_type": "code",
      "metadata": {
        "colab": {
          "base_uri": "https://localhost:8080/"
        },
        "id": "D8uWiK2nJcWq",
        "outputId": "c764e343-c367-431c-dda2-51f1c5e2c98d"
      },
      "source": [
        "# preprocessing\n",
        "# 1. Resize\n",
        "# 2.Flatten\n",
        "\n",
        "import os\n",
        "import matplotlib.pyplot as plt\n",
        "import numpy as np\n",
        "from skimage.io import imread\n",
        "from skimage.transform import resize\n",
        "\n",
        "target = []\n",
        "images = []\n",
        "flat_data = []\n",
        "\n",
        "DATADIR = '/content/images'\n",
        "CATEGORIES = ['rose','sunflower','football']\n",
        "\n",
        "for category in CATEGORIES:\n",
        "  class_num = CATEGORIES.index(category) # Label Endcoding the values\n",
        "  path = os.path.join(DATADIR,category) # create path to use all the images\n",
        "  for img in os.listdir(path):\n",
        "   img_array = imread(os.path.join(path,img))\n",
        "   #print(img_array.shape)\n",
        "   #plt.imshow(img_array)\n",
        "   img_resized = resize(img_array,(150,150,3)) # Normalizes the valuesfrom 0 to 1\n",
        "   flat_data.append(img_resized.flatten())\n",
        "   images.append(img_resized)\n",
        "   target.append(class_num)\n",
        "\n",
        "flat_data = np.array(flat_data)\n",
        "target = np.array(target)\n",
        "images = np.array(images)"
      ],
      "execution_count": null,
      "outputs": [
        {
          "output_type": "stream",
          "text": [
            "time: 13.8 s (started: 2021-03-28 14:59:03 +00:00)\n"
          ],
          "name": "stdout"
        }
      ]
    },
    {
      "cell_type": "code",
      "metadata": {
        "colab": {
          "base_uri": "https://localhost:8080/"
        },
        "id": "s2hSnUzoWPWe",
        "outputId": "e518ae9a-d7f0-4879-a6f0-b0815e42cf2b"
      },
      "source": [
        "len(flat_data[0])"
      ],
      "execution_count": null,
      "outputs": [
        {
          "output_type": "execute_result",
          "data": {
            "text/plain": [
              "67500"
            ]
          },
          "metadata": {
            "tags": []
          },
          "execution_count": 42
        },
        {
          "output_type": "stream",
          "text": [
            "time: 5.17 ms (started: 2021-03-28 15:02:31 +00:00)\n"
          ],
          "name": "stdout"
        }
      ]
    },
    {
      "cell_type": "code",
      "metadata": {
        "colab": {
          "base_uri": "https://localhost:8080/"
        },
        "id": "zw_lD3r1Wqel",
        "outputId": "96811b04-2880-4d63-db18-2680caa80bce"
      },
      "source": [
        "150*150*3"
      ],
      "execution_count": null,
      "outputs": [
        {
          "output_type": "execute_result",
          "data": {
            "text/plain": [
              "67500"
            ]
          },
          "metadata": {
            "tags": []
          },
          "execution_count": 43
        },
        {
          "output_type": "stream",
          "text": [
            "time: 4.47 ms (started: 2021-03-28 15:02:41 +00:00)\n"
          ],
          "name": "stdout"
        }
      ]
    },
    {
      "cell_type": "code",
      "metadata": {
        "colab": {
          "base_uri": "https://localhost:8080/"
        },
        "id": "_0dmk7qMW73F",
        "outputId": "6578afed-5533-43b1-ee75-2902ba9c049f"
      },
      "source": [
        "target"
      ],
      "execution_count": null,
      "outputs": [
        {
          "output_type": "execute_result",
          "data": {
            "text/plain": [
              "array([0, 0, 0, 0, 0, 0, 0, 0, 0, 0, 0, 0, 0, 0, 0, 0, 0, 0, 0, 0, 0, 0,\n",
              "       0, 0, 0, 0, 0, 0, 0, 0, 1, 1, 1, 1, 1, 1, 1, 1, 1, 1, 1, 1, 1, 1,\n",
              "       1, 1, 1, 1, 1, 1, 1, 1, 1, 1, 1, 1, 1, 1, 1, 1, 2, 2, 2, 2, 2, 2,\n",
              "       2, 2, 2, 2, 2, 2, 2, 2, 2, 2, 2, 2, 2, 2, 2, 2, 2, 2, 2, 2, 2, 2,\n",
              "       2, 2])"
            ]
          },
          "metadata": {
            "tags": []
          },
          "execution_count": 44
        },
        {
          "output_type": "stream",
          "text": [
            "time: 4.43 ms (started: 2021-03-28 15:02:59 +00:00)\n"
          ],
          "name": "stdout"
        }
      ]
    },
    {
      "cell_type": "code",
      "metadata": {
        "colab": {
          "base_uri": "https://localhost:8080/",
          "height": 298
        },
        "id": "vteo4JCGW_s8",
        "outputId": "3fae1c2d-ac1c-45c3-e968-8e556c49b4e1"
      },
      "source": [
        "unique,count = np.unique(target,return_counts=True)\n",
        "plt.bar(CATEGORIES,count)"
      ],
      "execution_count": null,
      "outputs": [
        {
          "output_type": "execute_result",
          "data": {
            "text/plain": [
              "<BarContainer object of 3 artists>"
            ]
          },
          "metadata": {
            "tags": []
          },
          "execution_count": 46
        },
        {
          "output_type": "display_data",
          "data": {
            "image/png": "[encoded data removed]",
            "text/plain": [
              "<Figure size 432x288 with 1 Axes>"
            ]
          },
          "metadata": {
            "tags": [],
            "needs_background": "light"
          }
        },
        {
          "output_type": "stream",
          "text": [
            "time: 148 ms (started: 2021-03-28 15:05:27 +00:00)\n"
          ],
          "name": "stdout"
        }
      ]
    },
    {
      "cell_type": "code",
      "metadata": {
        "colab": {
          "base_uri": "https://localhost:8080/"
        },
        "id": "IvZm_4PmXlZ4",
        "outputId": "fa877d42-300c-4ead-8c07-24b3ee6baba2"
      },
      "source": [
        "# Split data into Traning and testing\n",
        "from sklearn.model_selection import train_test_split\n",
        "x_train,x_test,y_train,y_test = train_test_split(flat_data,target,\n",
        "                                                  test_size=0.3,random_state=109)"
      ],
      "execution_count": null,
      "outputs": [
        {
          "output_type": "stream",
          "text": [
            "time: 21.2 ms (started: 2021-03-28 15:16:02 +00:00)\n"
          ],
          "name": "stdout"
        }
      ]
    },
    {
      "cell_type": "code",
      "metadata": {
        "id": "76yDOo8_nxsv",
        "colab": {
          "base_uri": "https://localhost:8080/"
        },
        "outputId": "29ef4bbf-bdb8-4fdb-8bfe-b3caf6b3a623"
      },
      "source": [
        "from sklearn.model_selection import GridSearchCV\n",
        "from sklearn import svm\n",
        "param_grid = [\n",
        "              {'c':[1,10,100,1000],'kernel':['linear']},\n",
        "              {'c':[1,10,100,1000],'gamma':[0.001,0.0001],'kernel':['rbf']},\n",
        "]\n",
        "\n",
        "svc = svm.SVC(probability=True)\n",
        "cif = GridSearchCV(svc,param_grid)\n",
        "cif.fit"
      ],
      "execution_count": 46,
      "outputs": [
        {
          "output_type": "execute_result",
          "data": {
            "text/plain": [
              "<bound method BaseSearchCV.fit of GridSearchCV(cv=None, error_score=nan,\n",
              "             estimator=SVC(C=1.0, break_ties=False, cache_size=200,\n",
              "                           class_weight=None, coef0=0.0,\n",
              "                           decision_function_shape='ovr', degree=3,\n",
              "                           gamma='scale', kernel='rbf', max_iter=-1,\n",
              "                           probability=True, random_state=None, shrinking=True,\n",
              "                           tol=0.001, verbose=False),\n",
              "             iid='deprecated', n_jobs=None,\n",
              "             param_grid=[{'c': [1, 10, 100, 1000], 'kernel': ['linear']},\n",
              "                         {'c': [1, 10, 100, 1000], 'gamma': [0.001, 0.0001],\n",
              "                          'kernel': ['rbf']}],\n",
              "             pre_dispatch='2*n_jobs', refit=True, return_train_score=False,\n",
              "             scoring=None, verbose=0)>"
            ]
          },
          "metadata": {
            "tags": []
          },
          "execution_count": 46
        }
      ]
    },
    {
      "cell_type": "code",
      "metadata": {
        "colab": {
          "base_uri": "https://localhost:8080/",
          "height": 162
        },
        "id": "Zm7eL3nHxy2L",
        "outputId": "49ca4da9-a4e7-4282-d88c-817179edba19"
      },
      "source": [
        "model = pickel.load(open('img_model.p','rb'))"
      ],
      "execution_count": 58,
      "outputs": [
        {
          "output_type": "error",
          "ename": "NameError",
          "evalue": "ignored",
          "traceback": [
            "\u001b[0;31m---------------------------------------------------------------------------\u001b[0m",
            "\u001b[0;31mNameError\u001b[0m                                 Traceback (most recent call last)",
            "\u001b[0;32m<ipython-input-58-6283c602c0a4>\u001b[0m in \u001b[0;36m<module>\u001b[0;34m()\u001b[0m\n\u001b[0;32m----> 1\u001b[0;31m \u001b[0mmodel\u001b[0m \u001b[0;34m=\u001b[0m \u001b[0mpickel\u001b[0m\u001b[0;34m.\u001b[0m\u001b[0mload\u001b[0m\u001b[0;34m(\u001b[0m\u001b[0mopen\u001b[0m\u001b[0;34m(\u001b[0m\u001b[0;34m'img_model.p'\u001b[0m\u001b[0;34m,\u001b[0m\u001b[0;34m'rb'\u001b[0m\u001b[0;34m)\u001b[0m\u001b[0;34m)\u001b[0m\u001b[0;34m\u001b[0m\u001b[0;34m\u001b[0m\u001b[0m\n\u001b[0m",
            "\u001b[0;31mNameError\u001b[0m: name 'pickel' is not defined"
          ]
        }
      ]
    },
    {
      "cell_type": "code",
      "metadata": {
        "id": "mAWPF-9nhcbJ"
      },
      "source": [
        "# Testing a brand new Image\n",
        "flat_data = []\n",
        "url = input('Enter your URL')\n",
        "img = imread(url)\n",
        "img_resized = resize(img,(150,150,3))\n",
        "flat_data.append(img_resized.flatten())\n",
        "flat_data = np.array(flat_data)\n",
        "print(img.shape)\n",
        "plt.imshow(img_resized)\n",
        "y_out = model.predict(flat_data)\n",
        "y_out = CATEGORIES[y_out[0]]\n",
        "print(f' PREDICTED OUTPUT: {y_out}')"
      ],
      "execution_count": null,
      "outputs": []
    },
    {
      "cell_type": "code",
      "metadata": {
        "id": "cNkpLxjz1O4-"
      },
      "source": [
        "$ git clone https://github.com/ultralytics/flickr_scraper\n",
        "$ cd flickr_scraper\n",
        "$ pip install -U -r requirements.txt"
      ],
      "execution_count": null,
      "outputs": []
    },
    {
      "cell_type": "code",
      "metadata": {
        "id": "qrJxyYxgt-ZQ"
      },
      "source": [
        "# Deployment :\n",
        "# 1. Webpage - HTML/CSS/JS - Flask/Django\n",
        "# 2. WebApp - streamlit/Dash\n",
        "# 3. Mobile App - kotlin/Java"
      ],
      "execution_count": null,
      "outputs": []
    },
    {
      "cell_type": "code",
      "metadata": {
        "id": "e1RssCAivot4"
      },
      "source": [
        "flickr-scraper.py --search rose --n 10 --dowmload"
      ],
      "execution_count": null,
      "outputs": []
    }
  ]
}